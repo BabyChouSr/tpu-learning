{
 "cells": [
  {
   "cell_type": "code",
   "execution_count": 17,
   "id": "4ec12bf2",
   "metadata": {},
   "outputs": [],
   "source": [
    "import jax\n",
    "import jax.numpy as jnp\n",
    "from jax.sharding import Mesh, PartitionSpec, NamedSharding\n",
    "from jax.experimental.shard_map import shard_map\n",
    "import numpy as np"
   ]
  },
  {
   "cell_type": "code",
   "execution_count": 21,
   "id": "b14225fe",
   "metadata": {},
   "outputs": [
    {
     "data": {
      "text/html": [
       "<pre style=\"white-space:pre;overflow-x:auto;line-height:normal;font-family:Menlo,'DejaVu Sans Mono',consolas,'Courier New',monospace\"><span style=\"color: #ffffff; text-decoration-color: #ffffff; background-color: #393b79\">                                                              </span>\n",
       "<span style=\"color: #ffffff; text-decoration-color: #ffffff; background-color: #393b79\">                                                              </span>\n",
       "<span style=\"color: #ffffff; text-decoration-color: #ffffff; background-color: #393b79\">                           TPU 0,1                            </span>\n",
       "<span style=\"color: #ffffff; text-decoration-color: #ffffff; background-color: #393b79\">                                                              </span>\n",
       "<span style=\"color: #ffffff; text-decoration-color: #ffffff; background-color: #393b79\">                                                              </span>\n",
       "<span style=\"color: #ffffff; text-decoration-color: #ffffff; background-color: #393b79\">                                                              </span>\n",
       "<span style=\"color: #ffffff; text-decoration-color: #ffffff; background-color: #393b79\">                                                              </span>\n",
       "<span style=\"color: #ffffff; text-decoration-color: #ffffff; background-color: #393b79\">                                                              </span>\n",
       "<span style=\"color: #ffffff; text-decoration-color: #ffffff; background-color: #393b79\">                           TPU 2,3                            </span>\n",
       "<span style=\"color: #ffffff; text-decoration-color: #ffffff; background-color: #393b79\">                                                              </span>\n",
       "<span style=\"color: #ffffff; text-decoration-color: #ffffff; background-color: #393b79\">                                                              </span>\n",
       "<span style=\"color: #ffffff; text-decoration-color: #ffffff; background-color: #393b79\">                                                              </span>\n",
       "</pre>\n"
      ],
      "text/plain": [
       "\u001b[38;2;255;255;255;48;2;57;59;121m                                                              \u001b[0m\n",
       "\u001b[38;2;255;255;255;48;2;57;59;121m                                                              \u001b[0m\n",
       "\u001b[38;2;255;255;255;48;2;57;59;121m                           \u001b[0m\u001b[38;2;255;255;255;48;2;57;59;121mTPU 0,1\u001b[0m\u001b[38;2;255;255;255;48;2;57;59;121m                            \u001b[0m\n",
       "\u001b[38;2;255;255;255;48;2;57;59;121m                                                              \u001b[0m\n",
       "\u001b[38;2;255;255;255;48;2;57;59;121m                                                              \u001b[0m\n",
       "\u001b[38;2;255;255;255;48;2;57;59;121m                                                              \u001b[0m\n",
       "\u001b[38;2;255;255;255;48;2;57;59;121m                                                              \u001b[0m\n",
       "\u001b[38;2;255;255;255;48;2;57;59;121m                                                              \u001b[0m\n",
       "\u001b[38;2;255;255;255;48;2;57;59;121m                           \u001b[0m\u001b[38;2;255;255;255;48;2;57;59;121mTPU 2,3\u001b[0m\u001b[38;2;255;255;255;48;2;57;59;121m                            \u001b[0m\n",
       "\u001b[38;2;255;255;255;48;2;57;59;121m                                                              \u001b[0m\n",
       "\u001b[38;2;255;255;255;48;2;57;59;121m                                                              \u001b[0m\n",
       "\u001b[38;2;255;255;255;48;2;57;59;121m                                                              \u001b[0m\n"
      ]
     },
     "metadata": {},
     "output_type": "display_data"
    }
   ],
   "source": [
    "mesh = Mesh(np.array(jax.devices()).reshape(2, 2), axis_names=(\"data\", \"model\"))\n",
    "\n",
    "x = jax.random.normal(jax.random.PRNGKey(0), (4, 10))\n",
    "A = jax.random.normal(jax.random.PRNGKey(0), (10, 10))\n",
    "\n",
    "sharding = NamedSharding(mesh, PartitionSpec(\"data\", None))\n",
    "\n",
    "\n",
    "# fsdp style is batch dimension sharded\n",
    "x = jax.device_put(x, NamedSharding(mesh, PartitionSpec(\"data\", None)))\n",
    "A = jax.device_put(A, NamedSharding(mesh, PartitionSpec(\"data\", None)))\n",
    "\n",
    "def sharded_matmul(x, A):\n",
    "    A = jax.lax.all_gather(A, axis_name=\"data\", axis=0, tiled=True)\n",
    "    return x @ A\n",
    "\n",
    "sharded_matmul = shard_map(sharded_matmul, mesh=mesh, in_specs=(PartitionSpec(\"data\", None), PartitionSpec(\"data\", None)), out_specs=PartitionSpec(\"data\", None))\n",
    "with mesh:\n",
    "    B = sharded_matmul(x, A)\n",
    "\n",
    "jax.debug.visualize_array_sharding(B)"
   ]
  },
  {
   "cell_type": "code",
   "execution_count": 41,
   "id": "acb9924c",
   "metadata": {},
   "outputs": [
    {
     "data": {
      "text/html": [
       "<pre style=\"white-space:pre;overflow-x:auto;line-height:normal;font-family:Menlo,'DejaVu Sans Mono',consolas,'Courier New',monospace\"><span style=\"color: #ffffff; text-decoration-color: #ffffff; background-color: #393b79\">                                                              </span>\n",
       "<span style=\"color: #ffffff; text-decoration-color: #ffffff; background-color: #393b79\">                                                              </span>\n",
       "<span style=\"color: #ffffff; text-decoration-color: #ffffff; background-color: #393b79\">                                                              </span>\n",
       "<span style=\"color: #ffffff; text-decoration-color: #ffffff; background-color: #393b79\">                                                              </span>\n",
       "<span style=\"color: #ffffff; text-decoration-color: #ffffff; background-color: #393b79\">                                                              </span>\n",
       "<span style=\"color: #ffffff; text-decoration-color: #ffffff; background-color: #393b79\">            TPU 0,2                        TPU 1,3            </span>\n",
       "<span style=\"color: #ffffff; text-decoration-color: #ffffff; background-color: #393b79\">                                                              </span>\n",
       "<span style=\"color: #ffffff; text-decoration-color: #ffffff; background-color: #393b79\">                                                              </span>\n",
       "<span style=\"color: #ffffff; text-decoration-color: #ffffff; background-color: #393b79\">                                                              </span>\n",
       "<span style=\"color: #ffffff; text-decoration-color: #ffffff; background-color: #393b79\">                                                              </span>\n",
       "<span style=\"color: #ffffff; text-decoration-color: #ffffff; background-color: #393b79\">                                                              </span>\n",
       "</pre>\n"
      ],
      "text/plain": [
       "\u001b[38;2;255;255;255;48;2;57;59;121m                               \u001b[0m\u001b[38;2;255;255;255;48;2;57;59;121m                               \u001b[0m\n",
       "\u001b[38;2;255;255;255;48;2;57;59;121m                               \u001b[0m\u001b[38;2;255;255;255;48;2;57;59;121m                               \u001b[0m\n",
       "\u001b[38;2;255;255;255;48;2;57;59;121m                               \u001b[0m\u001b[38;2;255;255;255;48;2;57;59;121m                               \u001b[0m\n",
       "\u001b[38;2;255;255;255;48;2;57;59;121m                               \u001b[0m\u001b[38;2;255;255;255;48;2;57;59;121m                               \u001b[0m\n",
       "\u001b[38;2;255;255;255;48;2;57;59;121m                               \u001b[0m\u001b[38;2;255;255;255;48;2;57;59;121m                               \u001b[0m\n",
       "\u001b[38;2;255;255;255;48;2;57;59;121m            \u001b[0m\u001b[38;2;255;255;255;48;2;57;59;121mTPU 0,2\u001b[0m\u001b[38;2;255;255;255;48;2;57;59;121m            \u001b[0m\u001b[38;2;255;255;255;48;2;57;59;121m            \u001b[0m\u001b[38;2;255;255;255;48;2;57;59;121mTPU 1,3\u001b[0m\u001b[38;2;255;255;255;48;2;57;59;121m            \u001b[0m\n",
       "\u001b[38;2;255;255;255;48;2;57;59;121m                               \u001b[0m\u001b[38;2;255;255;255;48;2;57;59;121m                               \u001b[0m\n",
       "\u001b[38;2;255;255;255;48;2;57;59;121m                               \u001b[0m\u001b[38;2;255;255;255;48;2;57;59;121m                               \u001b[0m\n",
       "\u001b[38;2;255;255;255;48;2;57;59;121m                               \u001b[0m\u001b[38;2;255;255;255;48;2;57;59;121m                               \u001b[0m\n",
       "\u001b[38;2;255;255;255;48;2;57;59;121m                               \u001b[0m\u001b[38;2;255;255;255;48;2;57;59;121m                               \u001b[0m\n",
       "\u001b[38;2;255;255;255;48;2;57;59;121m                               \u001b[0m\u001b[38;2;255;255;255;48;2;57;59;121m                               \u001b[0m\n"
      ]
     },
     "metadata": {},
     "output_type": "display_data"
    }
   ],
   "source": [
    "mesh = Mesh(np.array(jax.devices()).reshape(2, 2), axis_names=(\"data\", \"model\"))\n",
    "\n",
    "x = jax.random.normal(jax.random.PRNGKey(0), (4, 10))\n",
    "A = jax.random.normal(jax.random.PRNGKey(0), (10, 10))\n",
    "\n",
    "# tp style model dimension sharded\n",
    "# x = jax.device_put(x, NamedSharding(mesh, PartitionSpec(None, \"model\")))\n",
    "# A = jax.device_put(A, NamedSharding(mesh, PartitionSpec(None, \"model\")))\n",
    "\n",
    "def sharded_matmul(x, A):\n",
    "    x = jax.lax.all_gather(x, axis_name=\"model\", axis=1, tiled=True)\n",
    "    temp = x @ A\n",
    "    return temp\n",
    "    \n",
    "\n",
    "sharded_matmul = shard_map(sharded_matmul, mesh=mesh, in_specs=(PartitionSpec(None, \"model\"), PartitionSpec(None, \"model\")), out_specs=PartitionSpec(None, \"model\"))\n",
    "with mesh:\n",
    "    B = sharded_matmul(x, A)\n",
    "\n",
    "jax.debug.visualize_array_sharding(B)"
   ]
  },
  {
   "cell_type": "code",
   "execution_count": 49,
   "id": "3572c7e9",
   "metadata": {},
   "outputs": [
    {
     "data": {
      "text/html": [
       "<pre style=\"white-space:pre;overflow-x:auto;line-height:normal;font-family:Menlo,'DejaVu Sans Mono',consolas,'Courier New',monospace\"><span style=\"color: #ffffff; text-decoration-color: #ffffff; background-color: #393b79\">                                                              </span>\n",
       "<span style=\"color: #ffffff; text-decoration-color: #ffffff; background-color: #393b79\">                                                              </span>\n",
       "<span style=\"color: #ffffff; text-decoration-color: #ffffff; background-color: #393b79\">                                                              </span>\n",
       "<span style=\"color: #ffffff; text-decoration-color: #ffffff; background-color: #393b79\">                                                              </span>\n",
       "<span style=\"color: #ffffff; text-decoration-color: #ffffff; background-color: #393b79\">                                                              </span>\n",
       "<span style=\"color: #ffffff; text-decoration-color: #ffffff; background-color: #393b79\">            TPU 0,2                        TPU 1,3            </span>\n",
       "<span style=\"color: #ffffff; text-decoration-color: #ffffff; background-color: #393b79\">                                                              </span>\n",
       "<span style=\"color: #ffffff; text-decoration-color: #ffffff; background-color: #393b79\">                                                              </span>\n",
       "<span style=\"color: #ffffff; text-decoration-color: #ffffff; background-color: #393b79\">                                                              </span>\n",
       "<span style=\"color: #ffffff; text-decoration-color: #ffffff; background-color: #393b79\">                                                              </span>\n",
       "<span style=\"color: #ffffff; text-decoration-color: #ffffff; background-color: #393b79\">                                                              </span>\n",
       "</pre>\n"
      ],
      "text/plain": [
       "\u001b[38;2;255;255;255;48;2;57;59;121m                               \u001b[0m\u001b[38;2;255;255;255;48;2;57;59;121m                               \u001b[0m\n",
       "\u001b[38;2;255;255;255;48;2;57;59;121m                               \u001b[0m\u001b[38;2;255;255;255;48;2;57;59;121m                               \u001b[0m\n",
       "\u001b[38;2;255;255;255;48;2;57;59;121m                               \u001b[0m\u001b[38;2;255;255;255;48;2;57;59;121m                               \u001b[0m\n",
       "\u001b[38;2;255;255;255;48;2;57;59;121m                               \u001b[0m\u001b[38;2;255;255;255;48;2;57;59;121m                               \u001b[0m\n",
       "\u001b[38;2;255;255;255;48;2;57;59;121m                               \u001b[0m\u001b[38;2;255;255;255;48;2;57;59;121m                               \u001b[0m\n",
       "\u001b[38;2;255;255;255;48;2;57;59;121m            \u001b[0m\u001b[38;2;255;255;255;48;2;57;59;121mTPU 0,2\u001b[0m\u001b[38;2;255;255;255;48;2;57;59;121m            \u001b[0m\u001b[38;2;255;255;255;48;2;57;59;121m            \u001b[0m\u001b[38;2;255;255;255;48;2;57;59;121mTPU 1,3\u001b[0m\u001b[38;2;255;255;255;48;2;57;59;121m            \u001b[0m\n",
       "\u001b[38;2;255;255;255;48;2;57;59;121m                               \u001b[0m\u001b[38;2;255;255;255;48;2;57;59;121m                               \u001b[0m\n",
       "\u001b[38;2;255;255;255;48;2;57;59;121m                               \u001b[0m\u001b[38;2;255;255;255;48;2;57;59;121m                               \u001b[0m\n",
       "\u001b[38;2;255;255;255;48;2;57;59;121m                               \u001b[0m\u001b[38;2;255;255;255;48;2;57;59;121m                               \u001b[0m\n",
       "\u001b[38;2;255;255;255;48;2;57;59;121m                               \u001b[0m\u001b[38;2;255;255;255;48;2;57;59;121m                               \u001b[0m\n",
       "\u001b[38;2;255;255;255;48;2;57;59;121m                               \u001b[0m\u001b[38;2;255;255;255;48;2;57;59;121m                               \u001b[0m\n"
      ]
     },
     "metadata": {},
     "output_type": "display_data"
    }
   ],
   "source": [
    "mesh = Mesh(np.array(jax.devices()).reshape(2, 2), axis_names=(\"data\", \"model\"))\n",
    "\n",
    "x = jax.random.normal(jax.random.PRNGKey(0), (4, 10))\n",
    "W1 = jax.random.normal(jax.random.PRNGKey(0), (10, 40))\n",
    "W2 = jax.random.normal(jax.random.PRNGKey(0), (40, 10))\n",
    "\n",
    "# tp style model dimension sharded\n",
    "# x = jax.device_put(x, NamedSharding(mesh, PartitionSpec(None, \"model\")))\n",
    "# A = jax.device_put(A, NamedSharding(mesh, PartitionSpec(None, \"model\")))\n",
    "\n",
    "def sharded_matmul(x, W1, W2):\n",
    "    x = jax.lax.all_gather(x, axis_name=\"model\", axis=1, tiled=True) # [B, D_y] -> [B, D]\n",
    "    temp = x @ W1  # [B, D] * [D, F_y] -> [B, F_y]\n",
    "    temp = temp @ W2  # [B, F_y] * [F_y, D] -> [B, D] {U_y}\n",
    "    return jax.lax.psum_scatter(temp, axis_name=\"model\", scatter_dimension=1, tiled=True)\n",
    "    \n",
    "\n",
    "sharded_matmul = shard_map(sharded_matmul, mesh=mesh, in_specs=(PartitionSpec(None, \"model\"), PartitionSpec(None, \"model\"), PartitionSpec(\"model\", None)), out_specs=PartitionSpec(None, \"model\"))\n",
    "with mesh:\n",
    "    B = sharded_matmul(x, W1, W2)\n",
    "\n",
    "jax.debug.visualize_array_sharding(B)"
   ]
  },
  {
   "cell_type": "code",
   "execution_count": null,
   "id": "0fe6078e",
   "metadata": {},
   "outputs": [],
   "source": []
  }
 ],
 "metadata": {
  "kernelspec": {
   "display_name": ".venv",
   "language": "python",
   "name": "python3"
  },
  "language_info": {
   "codemirror_mode": {
    "name": "ipython",
    "version": 3
   },
   "file_extension": ".py",
   "mimetype": "text/x-python",
   "name": "python",
   "nbconvert_exporter": "python",
   "pygments_lexer": "ipython3",
   "version": "3.11.13"
  }
 },
 "nbformat": 4,
 "nbformat_minor": 5
}
