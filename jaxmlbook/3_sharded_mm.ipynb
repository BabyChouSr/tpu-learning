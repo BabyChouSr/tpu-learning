{
 "cells": [
  {
   "cell_type": "code",
   "execution_count": 1,
   "id": "a12e8c6e",
   "metadata": {},
   "outputs": [],
   "source": [
    "# Question 1\n",
    "\n",
    "# well there are 16 number of replications\n",
    "# because 8 * 2"
   ]
  },
  {
   "cell_type": "code",
   "execution_count": null,
   "id": "059de258",
   "metadata": {},
   "outputs": [
    {
     "name": "stdout",
     "output_type": "stream",
     "text": [
      "allgather_x_time: 2.330168888888889e-05\n",
      "allgather_xy_time: 4.660337777777778e-05\n",
      "allreduce_time: 1.1650844444444444e-05\n"
     ]
    }
   ],
   "source": [
    "# Question 2\n",
    "\n",
    "# Each chip is gathering at once 3/4 of the size of the array for\n",
    "# allgather_X\n",
    "\n",
    "X = 4\n",
    "Y = 4\n",
    "Z = 4\n",
    "B = 1024\n",
    "D = 4096\n",
    "total_xy_bytes = 2 * 1024 * 4096\n",
    "bidirectional_ici_bandwidth = 9e10 # one way\n",
    "\n",
    "allgather_x_time = (total_xy_bytes / Y) / bidirectional_ici_bandwidth # Y remains sharded\n",
    "\n",
    "allgather_xy_time = total_xy_bytes / (bidirectional_ici_bandwidth * 2)\n",
    "\n",
    "allreduce_time = 2 * total_xy_bytes / (bidirectional_ici_bandwidth * X * Y)\n",
    "\n",
    "print(f\"allgather_x_time: {allgather_x_time}\")\n",
    "print(f\"allgather_xy_time: {allgather_xy_time}\")\n",
    "print(f\"allreduce_time: {allreduce_time}\")\n",
    "\n",
    "# Idea to solve is that we just think about what the final array size should look like\n",
    "# that then gives us the total size of the transfer which is our numerator.\n",
    "# Our denominator is the number of axes in which we can transfer the data (X, Y, Z) and/or\n",
    "# if they are bidirectional links."
   ]
  },
  {
   "cell_type": "code",
   "execution_count": null,
   "id": "1f29f2fe",
   "metadata": {},
   "outputs": [
    {
     "data": {
      "text/plain": [
       "2.8444444444444444e-09"
      ]
     },
     "execution_count": 11,
     "metadata": {},
     "output_type": "execute_result"
    }
   ],
   "source": [
    "# Question 3\n",
    "\n",
    "b_bytes = 128 * 2\n",
    "X = 4\n",
    "total_time = b_bytes / (bidirectional_ici_bandwidth)\n",
    "total_time # but actually latency bounded so this is just 2 microseconds"
   ]
  },
  {
   "cell_type": "code",
   "execution_count": null,
   "id": "bf281b15",
   "metadata": {},
   "outputs": [],
   "source": [
    "# Question 4\n",
    "\n",
    "# Strategy one:\n",
    "# T_comm = DF / W_ici\n",
    "# T_math = BDF / FLOPs\n",
    "\n",
    "# Strategy two:\n",
    "# T_comm = 2 * BF / W_ici\n",
    "# T_math = BD_xF / FLOPs\n",
    "\n",
    "# Strategy two is clearly better in the case where B << D and we end up doing the \n",
    "# computation on the sharded array which is cheaper."
   ]
  },
  {
   "cell_type": "code",
   "execution_count": null,
   "id": "ae9aab9e",
   "metadata": {},
   "outputs": [],
   "source": [
    "# Question 5\n",
    "\n",
    "#  A[I_xyz, J] * B[J, K] -> C[I, K]\n",
    "# all gather on XYZ plane \n",
    "# IJ / (W_ici * 3)\n",
    "\n",
    "# if we allgather first which we shouldn't...\n",
    "#  T_comm = IJ / (W_ici * 3)\n",
    "#  T_math = IJK / FLOPs\n",
    "\n",
    "# allgather at the end\n",
    "# allgather(C[I_{xyz}, K])\n",
    "# T_math = IJK / (FLOPs * XYZ)\n",
    "# T_comm = IK / (W_ici * 3)\n",
    "\n",
    "# A[I, J_xyz] * B[J, K]\n",
    "# all gather J on XYZ plane... same communication cost\n",
    "# T_comm = IJ / (W_ici * 3)\n",
    "# T_math = IJK / FLOPs\n",
    "\n",
    "# A[I, J] * B[J_xyz, K]\n",
    "# all gather J on XYZ plane .. contraction on the second array could be cheaper if K << I?\n",
    "# T_comm = JK / (W_ici * 3)\n",
    "# T_math = IJK / FLOPs\n",
    "\n",
    "# A[I, J_xyz] * B[J_xyz, K] -> C[I, K] {U_xyz}\n",
    "# Local computation then all reduce\n",
    "# T_math =  IJ / (FLOPs * XYZ)\n",
    "# T_comm = 2 * IK / (W_ici * 3)  # 2x because of all reduce which can be expensive\n",
    "\n",
    "# A[I, J] * B[J, K] -> C[I, K] fully replicated\n",
    "# T_comm = 0\n",
    "# T_math = IJK / FLOPs"
   ]
  },
  {
   "cell_type": "code",
   "execution_count": null,
   "id": "ab3826d4",
   "metadata": {},
   "outputs": [],
   "source": [
    "# Question 6\n",
    "\n",
    "# A[I_x, J_y] * B[J_y, K] -> C[I_x, K] {U_y}\n",
    "# All reduce needed at the end\n",
    "# T_math = I_x * J_y * K / FLOPs\n",
    "# T_comm = 2 * (I_x * K) / (W_ici)\n",
    "\n",
    "# A[I_x, J] * B[J_x, K_y] -> C[I_x, K_y]\n",
    "# 1. all gather along X for weight B -> A[I_x, J] * B[J, K_y]\n",
    "# T_math = I_x * J * K_y / FLOPs\n",
    "# T_comm = J * K_y / W_ici\n",
    "\n",
    "# A[I_x, J] * B[J, K_y] -> C[I_x, K_y]\n",
    "# T_math = I_x * J * K_y / FLOPs\n",
    "# T_comm = 0"
   ]
  },
  {
   "cell_type": "code",
   "execution_count": null,
   "id": "1fd52da9",
   "metadata": {},
   "outputs": [],
   "source": [
    "# Question 7\n",
    "\n",
    "# B[D, F], C[F, D]\n",
    "# whole block is C * B * x with x[B, D]\n",
    "# D = 8192, F = 32768, B = 128\n",
    "# data type: bf16\n",
    "# "
   ]
  }
 ],
 "metadata": {
  "kernelspec": {
   "display_name": ".venv",
   "language": "python",
   "name": "python3"
  },
  "language_info": {
   "codemirror_mode": {
    "name": "ipython",
    "version": 3
   },
   "file_extension": ".py",
   "mimetype": "text/x-python",
   "name": "python",
   "nbconvert_exporter": "python",
   "pygments_lexer": "ipython3",
   "version": "3.12.0"
  }
 },
 "nbformat": 4,
 "nbformat_minor": 5
}
