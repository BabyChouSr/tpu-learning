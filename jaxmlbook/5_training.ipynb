{
 "cells": [
  {
   "cell_type": "code",
   "execution_count": 8,
   "id": "d4d87afb",
   "metadata": {},
   "outputs": [
    {
     "name": "stdout",
     "output_type": "stream",
     "text": [
      "total params: 13015449600\n"
     ]
    }
   ],
   "source": [
    "# Question 1\n",
    "\n",
    "# Llama-2-13B \n",
    "# L\t40\n",
    "# D\t5,120\n",
    "# F\t13824\n",
    "# N\t40\n",
    "# K\t40\n",
    "# H\t128\n",
    "# V\t32,000\n",
    "\n",
    "# Vocab\n",
    "# 2DV\n",
    "\n",
    "# Attention\n",
    "# Q, K, V, O\n",
    "# 4D^2\n",
    "\n",
    "# MLP\n",
    "# 3DF\n",
    "\n",
    "V = 32000\n",
    "D = 5120\n",
    "F = 13824\n",
    "L = 40\n",
    "\n",
    "block_params =  4 * D**2 + 3 * D * F\n",
    "total_params = 2 * V * D + block_params * L\n",
    "print(f\"total params: {total_params}\")"
   ]
  },
  {
   "cell_type": "code",
   "execution_count": null,
   "id": "682d5818",
   "metadata": {},
   "outputs": [],
   "source": [
    "# Question 2\n",
    "\n",
    "#  B*S = 16M tokens\n",
    "# model parameters: 2N\n",
    "# model optimizer state: 4N + 4N (moment, second moment)\n",
    "# roughly 13B * 10 = 130 GB\n",
    "# model activations: (BF * 2 + BD)  * L * 2\n",
    "        # where B = 16M\n",
    "# roughly 2 * 40 * (16e6 * 13824 * 2 + 16e6 * 5120) = 42TB\n",
    "\n",
    "# Activations take up most of the memory"
   ]
  },
  {
   "cell_type": "code",
   "execution_count": null,
   "id": "0accba70",
   "metadata": {},
   "outputs": [],
   "source": [
    "# Question 3\n",
    "\n",
    "# Let P = model parameters and N be the number of chips in the slice\n",
    "# 4096 chips, 16 x 16 x 16 topology\n",
    "# First question is activation memory pressure:\n",
    "# 95GB HBM\n",
    "# Secnd question is 1. B / N > C / W_ici is the rule of thumb for data parallelism for compute bound\n",
    "\n",
    "# Data Parallelism\n",
    "# 1. Can't do pure data parallelism since the model + optimizer states will be too large for single chip\n",
    "\n",
    "# FSDP\n",
    "# 2. Imagine FSDP with the whole thing as the FSDP group\n",
    "# Divide by the batch and divide by the optimizer states and params\n",
    "# so params + optimizer states = 10P / N = 3e-2 GB\n",
    "# activation is 2L (2BF + BD) / N = 1.9B\n",
    "# The activations + params fit for FSDP\n",
    "# Comm bound calculation: B / N > C / W_ici Mx (Mx in this case is 3 since 3 axes)\n",
    "# C / W_ici is roughly 2550 so then B > 850 N which is ~3.48M tokens, we are comms bound here\n",
    "\n",
    "# Tensor parallelism\n",
    "# Yes, no reason why we can't?\n",
    "# Following X_opt rule, X = sqrt(BNM_x F / M_y) = sqrt(3e6 * 2 * 4096 * / 13824) = ~1333\n",
    "# Mx/My = 2  because we assume that the FSDP has two axes\n",
    "# we make one axis TP = 4 and other two for FSDP = 1024\n",
    "# so 1024-way FSDP and 4-way TP\n",
    "# 3e-2 GB for params + optimizer states\n",
    "# activations: 10P / N  + 2L * (2BF/Y + BD/Y) / X = \n",
    "# activations: also 1.9B? \n",
    "# T_math / T_comm  = sqrt(BF) sqrt(M_xM_y) / (alpha sqrt(N)) > 1\n",
    "# sqrt(3e6 * 13824) * sqrt(2) / (2550 * sqrt(4096)) = 1.76 which means we are compute bound here!"
   ]
  }
 ],
 "metadata": {
  "kernelspec": {
   "display_name": ".venv",
   "language": "python",
   "name": "python3"
  },
  "language_info": {
   "codemirror_mode": {
    "name": "ipython",
    "version": 3
   },
   "file_extension": ".py",
   "mimetype": "text/x-python",
   "name": "python",
   "nbconvert_exporter": "python",
   "pygments_lexer": "ipython3",
   "version": "3.12.0"
  }
 },
 "nbformat": 4,
 "nbformat_minor": 5
}
