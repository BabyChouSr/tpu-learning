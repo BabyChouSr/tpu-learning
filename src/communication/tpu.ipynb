{
 "cells": [
  {
   "cell_type": "code",
   "execution_count": 3,
   "id": "4ec12bf2",
   "metadata": {},
   "outputs": [],
   "source": [
    "import jax\n",
    "import jax.numpy as jnp\n",
    "from jax.sharding import Mesh, PartitionSpec, NamedSharding\n",
    "from jax.experimental.shard_map import shard_map\n",
    "import numpy as np\n",
    "import time\n",
    "from jax.experimental.pjit import pjit"
   ]
  },
  {
   "cell_type": "markdown",
   "id": "ed7070c8",
   "metadata": {},
   "source": [
    "## FSDP-style sharding"
   ]
  },
  {
   "cell_type": "code",
   "execution_count": 9,
   "id": "b14225fe",
   "metadata": {},
   "outputs": [
    {
     "data": {
      "text/html": [
       "<pre style=\"white-space:pre;overflow-x:auto;line-height:normal;font-family:Menlo,'DejaVu Sans Mono',consolas,'Courier New',monospace\">┌────────────────────────────────────────────────────────────┐\n",
       "│                                                            │\n",
       "│                          TPU <span style=\"color: #008080; text-decoration-color: #008080; font-weight: bold\">0</span>,<span style=\"color: #008080; text-decoration-color: #008080; font-weight: bold\">1</span>                           │\n",
       "│                                                            │\n",
       "│                                                            │\n",
       "├────────────────────────────────────────────────────────────┤\n",
       "│                                                            │\n",
       "│                          TPU <span style=\"color: #008080; text-decoration-color: #008080; font-weight: bold\">2</span>,<span style=\"color: #008080; text-decoration-color: #008080; font-weight: bold\">3</span>                           │\n",
       "│                                                            │\n",
       "│                                                            │\n",
       "└────────────────────────────────────────────────────────────┘\n",
       "</pre>\n"
      ],
      "text/plain": [
       "┌────────────────────────────────────────────────────────────┐\n",
       "│                                                            │\n",
       "│                          TPU \u001b[1;36m0\u001b[0m,\u001b[1;36m1\u001b[0m                           │\n",
       "│                                                            │\n",
       "│                                                            │\n",
       "├────────────────────────────────────────────────────────────┤\n",
       "│                                                            │\n",
       "│                          TPU \u001b[1;36m2\u001b[0m,\u001b[1;36m3\u001b[0m                           │\n",
       "│                                                            │\n",
       "│                                                            │\n",
       "└────────────────────────────────────────────────────────────┘\n"
      ]
     },
     "metadata": {},
     "output_type": "display_data"
    }
   ],
   "source": [
    "mesh = Mesh(np.array(jax.devices()).reshape(2, 2), axis_names=(\"data\", \"model\"))\n",
    "\n",
    "x = jax.random.normal(jax.random.PRNGKey(0), (4, 10))\n",
    "A = jax.random.normal(jax.random.PRNGKey(0), (10, 10))\n",
    "\n",
    "sharding = NamedSharding(mesh, PartitionSpec(\"data\", None))\n",
    "\n",
    "\n",
    "# fsdp style is batch dimension sharded\n",
    "x = jax.device_put(x, NamedSharding(mesh, PartitionSpec(\"data\", None)))\n",
    "A = jax.device_put(A, NamedSharding(mesh, PartitionSpec(\"data\", None)))\n",
    "\n",
    "def sharded_matmul(x, A):\n",
    "    A = jax.lax.all_gather(A, axis_name=\"data\", axis=0, tiled=True)\n",
    "    return x @ A\n",
    "\n",
    "sharded_matmul = shard_map(sharded_matmul, mesh=mesh, in_specs=(PartitionSpec(\"data\", None), PartitionSpec(\"data\", None)), out_specs=PartitionSpec(\"data\", None))\n",
    "with mesh:\n",
    "    B = sharded_matmul(x, A)\n",
    "    B_non_sharded = x @ A\n",
    "    assert np.allclose(B, B_non_sharded)\n",
    "\n",
    "jax.debug.visualize_array_sharding(B)"
   ]
  },
  {
   "cell_type": "markdown",
   "id": "0b87fb60",
   "metadata": {},
   "source": [
    "## Column-wise Tensor Parallelism for MLP"
   ]
  },
  {
   "cell_type": "code",
   "execution_count": null,
   "id": "3572c7e9",
   "metadata": {},
   "outputs": [
    {
     "name": "stdout",
     "output_type": "stream",
     "text": [
      "(4, 10)\n"
     ]
    },
    {
     "data": {
      "text/html": [
       "<pre style=\"white-space:pre;overflow-x:auto;line-height:normal;font-family:Menlo,'DejaVu Sans Mono',consolas,'Courier New',monospace\">┌─────────────────────────────┬─────────────────────────────┐\n",
       "│                             │                             │\n",
       "│                             │                             │\n",
       "│                             │                             │\n",
       "│                             │                             │\n",
       "│           TPU <span style=\"color: #008080; text-decoration-color: #008080; font-weight: bold\">0</span>,<span style=\"color: #008080; text-decoration-color: #008080; font-weight: bold\">2</span>           │           TPU <span style=\"color: #008080; text-decoration-color: #008080; font-weight: bold\">1</span>,<span style=\"color: #008080; text-decoration-color: #008080; font-weight: bold\">3</span>           │\n",
       "│                             │                             │\n",
       "│                             │                             │\n",
       "│                             │                             │\n",
       "│                             │                             │\n",
       "└─────────────────────────────┴─────────────────────────────┘\n",
       "</pre>\n"
      ],
      "text/plain": [
       "┌─────────────────────────────┬─────────────────────────────┐\n",
       "│                             │                             │\n",
       "│                             │                             │\n",
       "│                             │                             │\n",
       "│                             │                             │\n",
       "│           TPU \u001b[1;36m0\u001b[0m,\u001b[1;36m2\u001b[0m           │           TPU \u001b[1;36m1\u001b[0m,\u001b[1;36m3\u001b[0m           │\n",
       "│                             │                             │\n",
       "│                             │                             │\n",
       "│                             │                             │\n",
       "│                             │                             │\n",
       "└─────────────────────────────┴─────────────────────────────┘\n"
      ]
     },
     "metadata": {},
     "output_type": "display_data"
    }
   ],
   "source": [
    "mesh = Mesh(np.array(jax.devices()).reshape(2, 2), axis_names=(\"data\", \"model\"))\n",
    "\n",
    "x = jax.random.normal(jax.random.PRNGKey(0), (4, 10))\n",
    "W1 = jax.random.normal(jax.random.PRNGKey(0), (10, 40))\n",
    "W2 = jax.random.normal(jax.random.PRNGKey(0), (40, 10))\n",
    "\n",
    "# tp style model dimension sharded\n",
    "# x = jax.device_put(x, NamedSharding(mesh, PartitionSpec(None, \"model\")))\n",
    "# A = jax.device_put(A, NamedSharding(mesh, PartitionSpec(None, \"model\")))\n",
    "\n",
    "def sharded_matmul(x, W1, W2):\n",
    "    x = jax.lax.all_gather(x, axis_name=\"model\", axis=1, tiled=True) # [B, D_y] -> [B, D]\n",
    "    temp = x @ W1  # [B, D] * [D, F_y] -> [B, F_y]\n",
    "    temp = temp @ W2  # [B, F_y] * [F_y, D] -> [B, D] {U_y}\n",
    "    return jax.lax.psum_scatter(temp, axis_name=\"model\", scatter_dimension=1, tiled=True)\n",
    "    \n",
    "\n",
    "sharded_matmul = shard_map(sharded_matmul, mesh=mesh, in_specs=(PartitionSpec(None, \"model\"), PartitionSpec(None, \"model\"), PartitionSpec(\"model\", None)), out_specs=PartitionSpec(None, \"model\"))\n",
    "with mesh:\n",
    "    B = sharded_matmul(x, W1, W2)\n",
    "    B_non_sharded = x @ W1 @ W2\n",
    "    assert np.allclose(B, B_non_sharded)\n",
    "\n",
    "jax.debug.visualize_array_sharding(B)"
   ]
  },
  {
   "cell_type": "markdown",
   "id": "c3d7bbcf",
   "metadata": {},
   "source": [
    "## FSDP + TP style sharding"
   ]
  },
  {
   "cell_type": "code",
   "execution_count": null,
   "id": "42f48e60",
   "metadata": {},
   "outputs": [
    {
     "data": {
      "text/html": [
       "<pre style=\"white-space:pre;overflow-x:auto;line-height:normal;font-family:Menlo,'DejaVu Sans Mono',consolas,'Courier New',monospace\">┌─────────────────────────────┬─────────────────────────────┐\n",
       "│                             │                             │\n",
       "│            TPU <span style=\"color: #008080; text-decoration-color: #008080; font-weight: bold\">0</span>            │            TPU <span style=\"color: #008080; text-decoration-color: #008080; font-weight: bold\">1</span>            │\n",
       "│                             │                             │\n",
       "│                             │                             │\n",
       "├─────────────────────────────┼─────────────────────────────┤\n",
       "│                             │                             │\n",
       "│            TPU <span style=\"color: #008080; text-decoration-color: #008080; font-weight: bold\">2</span>            │            TPU <span style=\"color: #008080; text-decoration-color: #008080; font-weight: bold\">3</span>            │\n",
       "│                             │                             │\n",
       "│                             │                             │\n",
       "└─────────────────────────────┴─────────────────────────────┘\n",
       "</pre>\n"
      ],
      "text/plain": [
       "┌─────────────────────────────┬─────────────────────────────┐\n",
       "│                             │                             │\n",
       "│            TPU \u001b[1;36m0\u001b[0m            │            TPU \u001b[1;36m1\u001b[0m            │\n",
       "│                             │                             │\n",
       "│                             │                             │\n",
       "├─────────────────────────────┼─────────────────────────────┤\n",
       "│                             │                             │\n",
       "│            TPU \u001b[1;36m2\u001b[0m            │            TPU \u001b[1;36m3\u001b[0m            │\n",
       "│                             │                             │\n",
       "│                             │                             │\n",
       "└─────────────────────────────┴─────────────────────────────┘\n"
      ]
     },
     "metadata": {},
     "output_type": "display_data"
    }
   ],
   "source": [
    "mesh = Mesh(np.array(jax.devices()).reshape(2, 2), axis_names=(\"data\", \"model\"))\n",
    "\n",
    "x = jax.random.normal(jax.random.PRNGKey(0), (4, 10))\n",
    "W1 = jax.random.normal(jax.random.PRNGKey(0), (10, 40))\n",
    "W2 = jax.random.normal(jax.random.PRNGKey(0), (40, 10))\n",
    "\n",
    "def sharded_matmul(x, W1, W2):\n",
    "    x = jax.lax.all_gather(x, axis_name=\"model\", axis=1, tiled=True) # TP gathers activations\n",
    "    W1 = jax.lax.all_gather(W1, axis_name=\"data\", axis=0, tiled=True) # FSDP gathers weights\n",
    "    W2 = jax.lax.all_gather(W2, axis_name=\"data\", axis=1, tiled=True)\n",
    "    temp = x @ W1\n",
    "    out = temp @ W2    \n",
    "    return jax.lax.psum_scatter(out, axis_name=\"model\", scatter_dimension=1, tiled=True)\n",
    "\n",
    "sharded_matmul = shard_map(sharded_matmul, mesh=mesh, in_specs=(PartitionSpec(\"data\", \"model\"), PartitionSpec(\"data\", \"model\"), PartitionSpec(\"model\", \"data\")), out_specs=PartitionSpec(\"data\", \"model\"))\n",
    "sharded_matmul_pjit = pjit(sharded_matmul, in_shardings=(PartitionSpec(\"data\", \"model\"), PartitionSpec(\"data\", \"model\"), PartitionSpec(\"model\", \"data\")), out_shardings=PartitionSpec(\"data\", \"model\"))\n",
    "with mesh:\n",
    "    B = sharded_matmul(x, W1, W2)\n",
    "    B_pjit = sharded_matmul_pjit(x, W1, W2)\n",
    "    B_non_sharded = x @ W1 @ W2\n",
    "    assert np.allclose(B, B_non_sharded)\n",
    "    assert np.allclose(B, B_pjit)\n",
    "\n",
    "jax.debug.visualize_array_sharding(B)"
   ]
  },
  {
   "cell_type": "markdown",
   "id": "0f463342",
   "metadata": {},
   "source": [
    "## Benchmarking communication"
   ]
  },
  {
   "cell_type": "code",
   "execution_count": 75,
   "id": "a99895e0",
   "metadata": {},
   "outputs": [
    {
     "name": "stdout",
     "output_type": "stream",
     "text": [
      "all to all\n"
     ]
    },
    {
     "data": {
      "text/html": [
       "<pre style=\"white-space:pre;overflow-x:auto;line-height:normal;font-family:Menlo,'DejaVu Sans Mono',consolas,'Courier New',monospace\">┌───────────────────────┐\n",
       "│         TPU <span style=\"color: #008080; text-decoration-color: #008080; font-weight: bold\">0</span>         │\n",
       "├───────────────────────┤\n",
       "│         TPU <span style=\"color: #008080; text-decoration-color: #008080; font-weight: bold\">1</span>         │\n",
       "├───────────────────────┤\n",
       "│         TPU <span style=\"color: #008080; text-decoration-color: #008080; font-weight: bold\">2</span>         │\n",
       "├───────────────────────┤\n",
       "│         TPU <span style=\"color: #008080; text-decoration-color: #008080; font-weight: bold\">3</span>         │\n",
       "└───────────────────────┘\n",
       "</pre>\n"
      ],
      "text/plain": [
       "┌───────────────────────┐\n",
       "│         TPU \u001b[1;36m0\u001b[0m         │\n",
       "├───────────────────────┤\n",
       "│         TPU \u001b[1;36m1\u001b[0m         │\n",
       "├───────────────────────┤\n",
       "│         TPU \u001b[1;36m2\u001b[0m         │\n",
       "├───────────────────────┤\n",
       "│         TPU \u001b[1;36m3\u001b[0m         │\n",
       "└───────────────────────┘\n"
      ]
     },
     "metadata": {},
     "output_type": "display_data"
    },
    {
     "name": "stdout",
     "output_type": "stream",
     "text": [
      "Warmup time: 3.9934356212615967 seconds\n"
     ]
    },
    {
     "data": {
      "text/html": [
       "<pre style=\"white-space:pre;overflow-x:auto;line-height:normal;font-family:Menlo,'DejaVu Sans Mono',consolas,'Courier New',monospace\">┌───────┬───────┬───────┬───────┐\n",
       "│       │       │       │       │\n",
       "│       │       │       │       │\n",
       "│       │       │       │       │\n",
       "│       │       │       │       │\n",
       "│ TPU <span style=\"color: #008080; text-decoration-color: #008080; font-weight: bold\">0</span> │ TPU <span style=\"color: #008080; text-decoration-color: #008080; font-weight: bold\">1</span> │ TPU <span style=\"color: #008080; text-decoration-color: #008080; font-weight: bold\">2</span> │ TPU <span style=\"color: #008080; text-decoration-color: #008080; font-weight: bold\">3</span> │\n",
       "│       │       │       │       │\n",
       "│       │       │       │       │\n",
       "│       │       │       │       │\n",
       "│       │       │       │       │\n",
       "└───────┴───────┴───────┴───────┘\n",
       "</pre>\n"
      ],
      "text/plain": [
       "┌───────┬───────┬───────┬───────┐\n",
       "│       │       │       │       │\n",
       "│       │       │       │       │\n",
       "│       │       │       │       │\n",
       "│       │       │       │       │\n",
       "│ TPU \u001b[1;36m0\u001b[0m │ TPU \u001b[1;36m1\u001b[0m │ TPU \u001b[1;36m2\u001b[0m │ TPU \u001b[1;36m3\u001b[0m │\n",
       "│       │       │       │       │\n",
       "│       │       │       │       │\n",
       "│       │       │       │       │\n",
       "│       │       │       │       │\n",
       "└───────┴───────┴───────┴───────┘\n"
      ]
     },
     "metadata": {},
     "output_type": "display_data"
    },
    {
     "name": "stdout",
     "output_type": "stream",
     "text": [
      "Time per iteration: 0.8007647323608399 seconds\n"
     ]
    }
   ],
   "source": [
    "# X = jnp.arange(4).reshape(2, 2)\n",
    "# print(X)\n",
    "X = jax.random.normal(jax.random.PRNGKey(0), (1000, 1000))\n",
    "\n",
    "mesh = Mesh(np.array(jax.devices()).reshape(4, ), axis_names=(\"data\", ))\n",
    "X = jax.device_put(X, NamedSharding(mesh, PartitionSpec(\"data\", None)))\n",
    "\n",
    "all_gather = shard_map(lambda x: jax.lax.all_gather(x, axis_name=\"data\", axis=0, tiled=True), mesh=mesh, in_specs=PartitionSpec(\"data\", None), out_specs=PartitionSpec(None, None), check_rep=False)\n",
    "all_reduce = shard_map(lambda x: jax.lax.psum(x, axis_name=\"data\"), mesh=mesh, in_specs=PartitionSpec(None, None), out_specs=PartitionSpec(None, None), check_rep=False)\n",
    "# reduce scatter about same speed as all gather if\n",
    "reduce_scatter = shard_map(lambda x: jax.lax.psum_scatter(x, axis_name=\"data\", scatter_dimension=0, tiled=True), mesh=mesh, in_specs=PartitionSpec(None, None), out_specs=PartitionSpec(\"data\", None), check_rep=False)\n",
    "all_to_all = shard_map(lambda x: jax.lax.all_to_all(x, axis_name=\"data\", split_axis=1, concat_axis=0, tiled=True), mesh=mesh, in_specs=PartitionSpec(\"data\", None), out_specs=PartitionSpec(None, \"data\"), check_rep=False)\n",
    "\n",
    "def benchmark_func(fn, num_iters=25):\n",
    "    start = time.time()\n",
    "    jax.debug.visualize_array_sharding(X)\n",
    "    for _ in range(5):\n",
    "        X_after_fn = fn(X)\n",
    "    end = time.time()\n",
    "    X_after_fn.block_until_ready()\n",
    "\n",
    "    print(f\"Warmup time: {end - start} seconds\")\n",
    "    start = time.time()\n",
    "    for _ in range(num_iters):\n",
    "        X_after_fn = fn(X)\n",
    "    end = time.time()\n",
    "\n",
    "    X_after_fn.block_until_ready()\n",
    "    # print(X_after_fn)\n",
    "    jax.debug.visualize_array_sharding(X_after_fn)\n",
    "    print(f\"Time per iteration: {(end - start) / num_iters} seconds\")\n",
    "\n",
    "\n",
    "with mesh:\n",
    "    # print(\"All gather\")\n",
    "    # benchmark_func(all_gather)\n",
    "\n",
    "    # print(\"All reduce\")\n",
    "    # benchmark_func(all_reduce)\n",
    "\n",
    "    # print(\"Reduce scatter\")\n",
    "    # benchmark_func(reduce_scatter)\n",
    "\n",
    "    print(\"all to all\")\n",
    "    benchmark_func(all_to_all)\n",
    "\n",
    "    X_T = all_to_all(X)\n",
    "    X_T_T = all_to_all(X_T)\n",
    "    assert np.allclose(X, X_T_T)\n",
    "\n",
    "# jax.debug.visualize_array_sharding(X_after_all_gather)\n"
   ]
  },
  {
   "cell_type": "code",
   "execution_count": 20,
   "id": "48731ae4",
   "metadata": {},
   "outputs": [
    {
     "data": {
      "text/html": [
       "<pre style=\"white-space:pre;overflow-x:auto;line-height:normal;font-family:Menlo,'DejaVu Sans Mono',consolas,'Courier New',monospace\">┌──────────────────────────────────────────────────────────────────────────────┐\n",
       "│                                                                              │\n",
       "│                                   TPU <span style=\"color: #008080; text-decoration-color: #008080; font-weight: bold\">0</span>,<span style=\"color: #008080; text-decoration-color: #008080; font-weight: bold\">1</span>                                    │\n",
       "│                                                                              │\n",
       "│                                                                              │\n",
       "├──────────────────────────────────────────────────────────────────────────────┤\n",
       "│                                                                              │\n",
       "│                                   TPU <span style=\"color: #008080; text-decoration-color: #008080; font-weight: bold\">2</span>,<span style=\"color: #008080; text-decoration-color: #008080; font-weight: bold\">3</span>                                    │\n",
       "│                                                                              │\n",
       "│                                                                              │\n",
       "└──────────────────────────────────────────────────────────────────────────────┘\n",
       "</pre>\n"
      ],
      "text/plain": [
       "┌──────────────────────────────────────────────────────────────────────────────┐\n",
       "│                                                                              │\n",
       "│                                   TPU \u001b[1;36m0\u001b[0m,\u001b[1;36m1\u001b[0m                                    │\n",
       "│                                                                              │\n",
       "│                                                                              │\n",
       "├──────────────────────────────────────────────────────────────────────────────┤\n",
       "│                                                                              │\n",
       "│                                   TPU \u001b[1;36m2\u001b[0m,\u001b[1;36m3\u001b[0m                                    │\n",
       "│                                                                              │\n",
       "│                                                                              │\n",
       "└──────────────────────────────────────────────────────────────────────────────┘\n"
      ]
     },
     "metadata": {},
     "output_type": "display_data"
    }
   ],
   "source": [
    "from flax import nnx\n",
    "\n",
    "class Attention(nnx.Module):\n",
    "    def __init__(self, hidden_dim, num_heads, rngs):\n",
    "        self.num_heads = num_heads\n",
    "        self.Wq = nnx.Linear(\n",
    "            in_features=hidden_dim,\n",
    "            out_features=hidden_dim,\n",
    "            use_bias=False,\n",
    "            kernel_init=nnx.with_partitioning(nnx.initializers.kaiming_normal(), PartitionSpec(None, \"model\")),\n",
    "            rngs=rngs\n",
    "        )\n",
    "        self.Wk = nnx.Linear(\n",
    "            in_features=hidden_dim,\n",
    "            out_features=hidden_dim,\n",
    "            use_bias=False,\n",
    "            kernel_init=nnx.with_partitioning(nnx.initializers.kaiming_normal(), PartitionSpec(None, \"model\")),\n",
    "            rngs=rngs\n",
    "        )\n",
    "        self.Wv = nnx.Linear(\n",
    "            in_features=hidden_dim,\n",
    "            out_features=hidden_dim,\n",
    "            use_bias=False,\n",
    "            kernel_init=nnx.with_partitioning(nnx.initializers.kaiming_normal(), PartitionSpec(None, \"model\")),\n",
    "            rngs=rngs\n",
    "        )\n",
    "        self.Wo = nnx.Linear(\n",
    "            in_features=hidden_dim,\n",
    "            out_features=hidden_dim,\n",
    "            use_bias=False,\n",
    "            kernel_init=nnx.with_partitioning(nnx.initializers.kaiming_normal(), PartitionSpec(\"model\", None)),\n",
    "            rngs=rngs\n",
    "        )\n",
    "\n",
    "    def __call__(self, x):\n",
    "        bsz, seq_len, hidden_dim = x.shape\n",
    "\n",
    "        q, k, v = self.Wq(x), self.Wk(x), self.Wv(x)\n",
    "        q = q.reshape(bsz, seq_len, self.num_heads, -1)\n",
    "        k = k.reshape(bsz, seq_len, self.num_heads, -1)\n",
    "        v = v.reshape(bsz, seq_len, self.num_heads, -1)\n",
    "        q = q.transpose(0, 2, 1, 3)\n",
    "        k = k.transpose(0, 2, 1, 3)\n",
    "        v = v.transpose(0, 2, 1, 3)\n",
    "\n",
    "        q *= 1/ jnp.sqrt(hidden_dim)\n",
    "        scores = jnp.einsum(\"bhqd, bhkd -> bhqk\", q, k)\n",
    "        scores = jax.nn.softmax(scores, axis=-1)\n",
    "        out = jnp.einsum(\"bhqk, bhkd -> bhqd\", scores, v)\n",
    "        out = out.transpose(0, 2, 1, 3)\n",
    "        out = out.reshape(bsz, seq_len, -1)\n",
    "        return self.Wo(out)\n",
    "\n",
    "\n",
    "class MLP(nnx.Module):\n",
    "    def __init__(self, hidden_dim, rngs):\n",
    "        self.W1 = nnx.Linear(\n",
    "            in_features=hidden_dim, out_features=hidden_dim * 4, use_bias=False, kernel_init=nnx.with_partitioning(nnx.initializers.kaiming_normal(), PartitionSpec(None, \"model\")), rngs=rngs\n",
    "        )\n",
    "        self.W2 = nnx.Linear(\n",
    "            in_features=hidden_dim * 4, out_features=hidden_dim, use_bias=False, kernel_init=nnx.with_partitioning(nnx.initializers.kaiming_normal(), PartitionSpec(\"model\", None)), rngs=rngs\n",
    "        )\n",
    "\n",
    "    def __call__(self, x):\n",
    "        return self.W2(nnx.relu(self.W1(x)))\n",
    "\n",
    "class Layer(nnx.Module):\n",
    "    def __init__(self, hidden_dim, num_heads, rngs):\n",
    "        self.attention = Attention(hidden_dim, num_heads, rngs)\n",
    "        self.mlp = MLP(hidden_dim, rngs)\n",
    "\n",
    "    def __call__(self, x):\n",
    "        x = x + self.attention(x)\n",
    "        x = x + self.mlp(x)\n",
    "        return x\n",
    "\n",
    "mesh = Mesh(np.array(jax.devices()).reshape(2, 2), axis_names=(\"data\", \"model\"))\n",
    "rngs = nnx.Rngs(0)\n",
    "\n",
    "\n",
    "with mesh:\n",
    "    X = jax.random.normal(jax.random.PRNGKey(0), (2, 128, 1024))\n",
    "    X = jax.device_put(X, NamedSharding(mesh, PartitionSpec(\"data\", None)))\n",
    "    model = nnx.jit(Layer(hidden_dim=1024, num_heads=16, rngs=rngs))\n",
    "    y = model(X)\n",
    "    jax.debug.visualize_array_sharding(y.reshape(2, -1))\n",
    "\n",
    "\n",
    "\n",
    "# model(X)"
   ]
  },
  {
   "cell_type": "code",
   "execution_count": null,
   "id": "7da75204",
   "metadata": {},
   "outputs": [],
   "source": []
  }
 ],
 "metadata": {
  "kernelspec": {
   "display_name": ".venv",
   "language": "python",
   "name": "python3"
  },
  "language_info": {
   "codemirror_mode": {
    "name": "ipython",
    "version": 3
   },
   "file_extension": ".py",
   "mimetype": "text/x-python",
   "name": "python",
   "nbconvert_exporter": "python",
   "pygments_lexer": "ipython3",
   "version": "3.11.13"
  }
 },
 "nbformat": 4,
 "nbformat_minor": 5
}
