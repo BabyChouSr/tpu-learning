{
 "cells": [
  {
   "cell_type": "code",
   "execution_count": null,
   "id": "ff26b846",
   "metadata": {},
   "outputs": [],
   "source": [
    "# Question 1\n",
    "# bfloat16 200B parameter model split across 32 TPU v4p\n",
    "# HBM -> VMEM\n",
    "# Amount of memory in bytes = 200 * 2 / 32 = 12.5e9 bytes\n",
    "# Speed of HBM BW = 1.2e12  \n",
    "\n",
    "# Time taken = 12.5e9 / 1.2e12 =  0.01 seconds"
   ]
  },
  {
   "cell_type": "code",
   "execution_count": null,
   "id": "a5cabad6",
   "metadata": {},
   "outputs": [],
   "source": [
    "# Question 2\n",
    "# v5e pod\n",
    "# 16 x 16 = 256 / (4 x 2) = 32 Hosts\n",
    "# 256 chips * 1 = 256 tensor cores\n",
    "# Total HBM: 16 * 256 = 4096 GB\n",
    "# Total FLOPs/s: 16 * 16 * 2e14 = 5.1e16"
   ]
  },
  {
   "cell_type": "code",
   "execution_count": 1,
   "id": "8303f747",
   "metadata": {},
   "outputs": [],
   "source": [
    "# Question 3\n",
    "# A * x = bfloat16[B, D] * bfloat16[D, F]\n",
    "# v6e peak FLOPs = 9.20e14\n",
    "# HBM BW / chip = 1.6e12\n",
    "# PCIe bandiwdth = 1.6e10 bytes / second\n",
    "# T_math = 2 BDF / 9.2e14\n",
    "# T_comm = max(PCIe_time, HBM time) = max(2(BD + DF + BF) / 1.6e10, 2(BD + DF + BF) / 1.6e12) = 2(BD + DF + BF) / 1.6e10\n",
    "\n",
    "# T_math =T_comm = 2BDF / 9.2e14 = 2(BD + DF + BF) / 1.6e10\n",
    "# 2 BDF / 2(BD + DF + BF) = 9.2e14 / 1.6e10\n",
    "# 8BD^2 / (2BD + 8D^2 + 8BD) = 9.2e14 / 1.6e10\n",
    "# B > 9.2e14 / 1.6e10 = 57,500 (in the book they use 1.5e10 as the PCIe bandwidth for some reason)"
   ]
  },
  {
   "cell_type": "code",
   "execution_count": 3,
   "id": "771f9258",
   "metadata": {},
   "outputs": [
    {
     "data": {
      "image/png": "[encoded data removed]",
      "text/plain": [
       "<Figure size 640x480 with 1 Axes>"
      ]
     },
     "metadata": {},
     "output_type": "display_data"
    }
   ],
   "source": [
    "# Question 4\n",
    "# int8[B, D] * int8[D, F] where F = 4D\n",
    "# int8[B, 4096] * int8[4096, 16384]\n",
    "# v5e peak FLOPs = 3.94e14\n",
    "# v5e HBM BW/chip = 8.1e11\n",
    "\n",
    "# T_math = 2BDF / 3.94e14 \n",
    "# T_comm = (BD + DF + BF) / 8.1e11\n",
    "# T_math = 1.34e8 / 3.94e14 * B\n",
    "# T_comm = 2.5e-8 * B + 6.7e7 / 8.1e11\n",
    "# Communication is bottlenecking at small batch size\n",
    "\n",
    "# Out of VMEM\n",
    "# Assume VMEM bandwidth = 22 * HBM Bandwidth\n",
    "# T_comm = (BD + DF + BF) / 178.2e11\n",
    "# T_comm = 1.14e-9 * B + 3.7e-6\n",
    "\n",
    "# Critical batch size (not needed actually)\n",
    "# B(2DF - 8.1e11/3.94e14 (D + F)) = 8.1e11/3.94e14 DF\n",
    "\n",
    "import numpy as np\n",
    "import matplotlib.pyplot as plt\n",
    "\n",
    "B = np.linspace(1, 512)\n",
    "PEAK_FLOPS = 1.97e14\n",
    "\n",
    "\n",
    "\n",
    "def roofline(B, d, f, comm_flops):\n",
    "    math_bytes = 2 * B * d * f\n",
    "    comm_bytes = B * d + d * f + B * f\n",
    "    math_time = math_bytes / 3.94e14\n",
    "    comm_time = comm_bytes / comm_flops\n",
    "\n",
    "    total_time = np.maximum(math_time, comm_time)\n",
    "    flops = math_bytes / total_time\n",
    "    return flops\n",
    "\n",
    "d_large = 4096\n",
    "f_large = 16384\n",
    "\n",
    "flops_hbm = roofline(B, d_large, f_large, 8.1e11)\n",
    "flops_vmem = roofline(B, d_large, f_large, 8.1e11 * 22)\n",
    "\n",
    "\n",
    "plt.plot(B, flops_hbm, label='HBM')\n",
    "plt.plot(B, flops_vmem, label='VMEM')\n",
    "plt.axhline(PEAK_FLOPS, color='black', linestyle='--', label='Peak FLOPs')\n",
    "plt.xlabel('Batch size')\n",
    "plt.ylabel('FLOPs')\n",
    "plt.legend()\n",
    "plt.show()\n"
   ]
  },
  {
   "cell_type": "code",
   "execution_count": null,
   "id": "f74da2f5",
   "metadata": {},
   "outputs": [],
   "source": [
    "# Question 5\n",
    "# Below logic is wrong\n",
    "# v5e ICI BW/link = 4.5e10\n",
    "# per-hop-latency = 1e-6\n",
    "# bfloat16[8, 128, 8192]\n",
    "# T_comm = 2 * 8 * 128 * 8192 / 4.5e10 = 3.7e-4\n",
    "# 2-hops = 2 * per-hop-latency + 2 * T_comm\n",
    "\n",
    "# For one bytes\n",
    "# 2 * 1e-6 = 2e-6 = time that first byte arrives\n",
    "\n",
    "# For whole transfer\n",
    "# 2 * 1e-6 + 2 * 3.7e-4 = 7.4e-4\n",
    "\n",
    "# Correct approach\n",
    "# No-wrap arounds\n",
    "# 2 ports to send the array to/from\n",
    "\n",
    "# one byte:\n",
    "# 6 * 1e-6 = 6e-6\n",
    "\n",
    "# two sides so package size reduced to 8 * 128 * 8192\n",
    "# Time total: 8 * 128 * 8192 / 4.5e10 = 1.86e-4 seconds\n",
    "# ^ notice no need to multiply by 6 since we can assume it all occurs at the same time "
   ]
  },
  {
   "cell_type": "code",
   "execution_count": 15,
   "id": "f35d151f",
   "metadata": {},
   "outputs": [
    {
     "name": "stdout",
     "output_type": "stream",
     "text": [
      "Lower bound: 0.19088743537777778\n",
      "Upper bound: 0.2850778470875518\n"
     ]
    }
   ],
   "source": [
    "# Question 6\n",
    "\n",
    "# through ICI\n",
    "# A = int8[131072, 131072]\n",
    "# x = bf16[8, 131072]\n",
    "\n",
    "# # v5e ICI BW/link = 4.5e10\n",
    "# per-hop-latency = 1e-6\n",
    "\n",
    "# maximum time to go from {3, 3} to {0, 0} is the answer? \n",
    "# 6 hops (doesn't matter)\n",
    "# 131072 * 131072 / (9e10)     since we assume that we are using 2 axes\n",
    "# 0.19 seconds\n",
    "\n",
    "# going from Host DRAM to chip is PCIe Bandwidth so\n",
    "# 131072 * 131072 / 1.6e10 \n",
    "# 1.07 seconds\n",
    "\n",
    "# We should then just do the ICI route since it's much faster\n",
    "# computation takes\n",
    "# FLOPS / Peak flops\n",
    "# bytes moved / hbm bandwidth\n",
    "\n",
    "# T_math = (2 * 131072 * 131072 * 8) / 1.97e14 = 0.0014\n",
    "# T_comm = (131072 * 131072 + 131072 * 8 + 8 * 131072) / 8.1e11 = 0.02 seconds\n",
    "# maximum out of these two is 0.02 seconds\n",
    "\n",
    "# total time is 0.012 + 0.02 seconds\n",
    "\n",
    "\n",
    "# actual answer walkthrough\n",
    "tensor_bytes = 131072 * 131072\n",
    "operand_bytes = 8 * 128 * 1024\n",
    "output_bytes = 8 * 128 * 1024\n",
    "pcie_bandwidth = 1.5e10\n",
    "ici_bandwidth = 4.5e10\n",
    "hbm_bandwidth = 8.1e11\n",
    "peak_flops = 1.97e14\n",
    "num_tpus_per_slice = 8\n",
    "num_slices = 2\n",
    "cpu_to_hbm_time = tensor_bytes / pcie_bandwidth / (num_tpus_per_slice * num_slices)\n",
    "tpu_to_tpu_time = tensor_bytes / (ici_bandwidth * 2)\n",
    "tpu_to_hbm_time = (tensor_bytes + operand_bytes + output_bytes) / hbm_bandwidth\n",
    "compute_time = 2 * tensor_bytes * operand_bytes / 131072 / peak_flops\n",
    "\n",
    "\n",
    "slowest_time = max([cpu_to_hbm_time, tpu_to_tpu_time, tpu_to_hbm_time, compute_time])\n",
    "print(f\"Lower bound: {slowest_time}\")\n",
    "\n",
    "sequential_time = cpu_to_hbm_time + tpu_to_tpu_time + tpu_to_hbm_time + compute_time\n",
    "print(f\"Upper bound: {sequential_time}\")"
   ]
  },
  {
   "cell_type": "code",
   "execution_count": null,
   "id": "63979ae8",
   "metadata": {},
   "outputs": [],
   "source": []
  }
 ],
 "metadata": {
  "kernelspec": {
   "display_name": ".venv",
   "language": "python",
   "name": "python3"
  },
  "language_info": {
   "codemirror_mode": {
    "name": "ipython",
    "version": 3
   },
   "file_extension": ".py",
   "mimetype": "text/x-python",
   "name": "python",
   "nbconvert_exporter": "python",
   "pygments_lexer": "ipython3",
   "version": "3.12.0"
  }
 },
 "nbformat": 4,
 "nbformat_minor": 5
}
